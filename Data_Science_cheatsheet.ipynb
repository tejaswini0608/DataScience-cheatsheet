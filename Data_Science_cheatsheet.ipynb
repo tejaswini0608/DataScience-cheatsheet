{
 "cells": [
  {
   "cell_type": "code",
   "execution_count": 1,
   "metadata": {},
   "outputs": [],
   "source": [
    "#library to use pandas\n",
    "import pandas as pd"
   ]
  },
  {
   "cell_type": "markdown",
   "metadata": {},
   "source": [
    "# Read file into dataframe\n",
    "\n",
    "- Read csv file or excel file"
   ]
  },
  {
   "cell_type": "code",
   "execution_count": 4,
   "metadata": {},
   "outputs": [],
   "source": [
    "# read file into dataframe\n",
    "data_frame = pd.read_csv(FILENAME, encoding = 'utf8', sep=';')\n",
    "\n",
    "# excel file\n",
    "data_frame = pd.ExcelFile(FILENAME)\n",
    "print(\"Sheet names are in the file are : \", data_frame.sheet_names)\n",
    "print(\"Please enter the sheet name of the file you want to read :\")\n",
    "SHEET_NAME = input()\n",
    "data_frame_excel = data_frame.parse(SHEET_NAME)"
   ]
  },
  {
   "cell_type": "markdown",
   "metadata": {},
   "source": [
    "# Basic filtering"
   ]
  },
  {
   "cell_type": "markdown",
   "metadata": {},
   "source": [
    "- We can start by keeping dropping the irrelevant rows\n",
    "- checking if there are null values and replacing null values\n",
    "- keeping only the rows with specific values\n",
    "- Reset the index of the dataframe"
   ]
  },
  {
   "cell_type": "code",
   "execution_count": 6,
   "metadata": {},
   "outputs": [],
   "source": [
    "# drop unnecessary columns\n",
    "data = data_frame.drop(['col1','col2','col3'], axis=1)\n",
    "data.head()"
   ]
  },
  {
   "cell_type": "code",
   "execution_count": null,
   "metadata": {},
   "outputs": [],
   "source": [
    "# get the number of null values in each rows\n",
    "data_frame.isnull().sum()\n",
    "\n",
    "# replaced Nan with string\n",
    "data_frame = data_frame.replace(np.nan, 'null_value', regex=True)\n",
    "data_frame.isnull().sum()\n",
    "\n",
    "# keep only the rows that have the 'ABC' in the column 'col_name'\n",
    "data['col_name'].value_counts()\n",
    "data=data[data['col_name'] == 'ABC']\n",
    "\n",
    "# reset index\n",
    "data=data.reset_index(drop=True) \n",
    "data.head()"
   ]
  },
  {
   "cell_type": "markdown",
   "metadata": {},
   "source": [
    "# Language filtering\n",
    "\n",
    "- Used lang detect. It is fast, but has low accuracy\n",
    "\n",
    "Approach used:\n",
    "- create a column called lan_detected in the dataframe, then run the loop through 1 of the \n",
    "  columns that you think is the best to detect the language. eg: comments column\n",
    "- drop all the rows containing other languages\n",
    "- reset the index of the dataframe"
   ]
  },
  {
   "cell_type": "code",
   "execution_count": 8,
   "metadata": {},
   "outputs": [],
   "source": [
    "# 1 of the libraries that detects language present in the dataframe.\n",
    "\n",
    "from langdetect import detect"
   ]
  },
  {
   "cell_type": "code",
   "execution_count": null,
   "metadata": {},
   "outputs": [],
   "source": [
    "data['lang_detected']=\"\"\n",
    "    \n",
    "for i in range(0,len(data)):\n",
    "    lang = detect(data[column_list[0]][i])\n",
    "    data['lang_detected'][i]=lang\n",
    "    \n",
    "print(\"\\n The count of all the languages detected are: \\n\")\n",
    "print(data['lang_detected'].value_counts())\n",
    "\n",
    "# Drop all non-english languages\n",
    "data=data[data['lang_detected'] == 'en']\n",
    "\n",
    "print(\"\\nAfter dropping Non-English language instances: \\n\")\n",
    "print(data['lang_detected'].value_counts())\n",
    "\n",
    "data=data.reset_index(drop=True) "
   ]
  },
  {
   "cell_type": "markdown",
   "metadata": {},
   "source": [
    "# "
   ]
  }
 ],
 "metadata": {
  "kernelspec": {
   "display_name": "Python 3",
   "language": "python",
   "name": "python3"
  },
  "language_info": {
   "codemirror_mode": {
    "name": "ipython",
    "version": 3
   },
   "file_extension": ".py",
   "mimetype": "text/x-python",
   "name": "python",
   "nbconvert_exporter": "python",
   "pygments_lexer": "ipython3",
   "version": "3.7.3"
  }
 },
 "nbformat": 4,
 "nbformat_minor": 2
}
